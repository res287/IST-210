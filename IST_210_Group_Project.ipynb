{
  "nbformat": 4,
  "nbformat_minor": 0,
  "metadata": {
    "colab": {
      "name": "IST 210 Group Project.ipynb",
      "provenance": [],
      "collapsed_sections": [],
      "include_colab_link": true
    },
    "kernelspec": {
      "name": "python3",
      "display_name": "Python 3"
    }
  },
  "cells": [
    {
      "cell_type": "markdown",
      "metadata": {
        "id": "view-in-github",
        "colab_type": "text"
      },
      "source": [
        "<a href=\"https://colab.research.google.com/github/res287/IST-210/blob/master/IST_210_Group_Project.ipynb\" target=\"_parent\"><img src=\"https://colab.research.google.com/assets/colab-badge.svg\" alt=\"Open In Colab\"/></a>"
      ]
    },
    {
      "cell_type": "code",
      "metadata": {
        "id": "DKlCFvvrE1O0",
        "colab_type": "code",
        "colab": {}
      },
      "source": [
        "#Used to make requests\n",
        "import urllib\n"
      ],
      "execution_count": 0,
      "outputs": []
    },
    {
      "cell_type": "code",
      "metadata": {
        "id": "f-cZ7oB_E43X",
        "colab_type": "code",
        "colab": {}
      },
      "source": [
        "import sqlite3 # Once imported in a single notebook, it is available to us throughout the rest of the notebook. \n",
        "# connect to database, if not there, create it. \n",
        "connectionToDatabase = sqlite3.connect('carDealershipDatabase') \n",
        "cursor = connectionToDatabase.cursor()"
      ],
      "execution_count": 0,
      "outputs": []
    },
    {
      "cell_type": "code",
      "metadata": {
        "id": "ZOWuJwqhDc27",
        "colab_type": "code",
        "colab": {}
      },
      "source": [
        "#Creating Car Dealership Table\n",
        "cursor.execute('''drop table IF EXISTS carDealership''')\n",
        "connectionToDatabase.commit()\n",
        "\n",
        "cursor.execute('''create table carDealership (dealership text PRIMARY KEY, newCars text, usedCars text, dealershipLot real, salesReportDeal real, monthlyIR real)''')\n",
        "connectionToDatabase.commit()\n",
        "\n",
        "#Creating Car Manufacturer Lot Table\n",
        "cursor.execute('''drop table IF EXISTS carManufacturer''')\n",
        "connectionToDatabase.commit()\n",
        "\n",
        "cursor.execute('''create table carManufacturer (brand text PRIMARY KEY, carDealerships text, carModels text, inventoryAllocation text)''')\n",
        "connectionToDatabase.commit()\n",
        "\n",
        "#Creating sales Report Table\n",
        "cursor.execute('''drop table IF EXISTS salesReport''')\n",
        "connectionToDatabase.commit()\n",
        "\n",
        "cursor.execute('''create table salesReport (uniqueID real PRIMARY KEY, dealershipSR text, customerSR text, trans text)''')\n",
        "connectionToDatabase.commit()\n",
        "\n",
        "#Creating Customer Table\n",
        "cursor.execute('''drop table IF EXISTS customer''')\n",
        "connectionToDatabase.commit()\n",
        "\n",
        "cursor.execute('''create table customer(customerID real PRIMARY KEY, salesReportCust real, name text, phoneNumber real, email text)''')\n",
        "connectionToDatabase.commit()\n",
        "\n",
        "#Creating Monthly Inventory Report Table\n",
        "cursor.execute('''drop table IF EXISTS monthlyInventoryReport''')\n",
        "connectionToDatabase.commit()\n",
        "\n",
        "cursor.execute('''create table monthlyInventoryReport (orderNumber real PRIMARY KEY, numberOfNewCars real, quantityOfCars real, changeInInventory real)''')\n",
        "connectionToDatabase.commit()\n",
        "\n",
        "#Creating Dealership Lot Table\n",
        "cursor.execute('''drop table IF EXISTS lots''')\n",
        "connectionToDatabase.commit()\n",
        "\n",
        "cursor.execute('''create table lots (lotNumber text PRIMARY KEY, numberOfCars real, models text, priceOfCars real)''')\n",
        "connectionToDatabase.commit()"
      ],
      "execution_count": 0,
      "outputs": []
    },
    {
      "cell_type": "code",
      "metadata": {
        "id": "QSk-W8hpI0kH",
        "colab_type": "code",
        "colab": {}
      },
      "source": [
        "#Inserting Data into carDealership\n",
        "                        #dealershipLocation text PRIMARY KEY, newCars text, usedCars text, dealershipLot real, salesReport real, monthlyIR real\n",
        "cursor.execute('''insert into carDealership values (\"Chicago\", \"340i\", null, 1, 734, 5862)''')\n",
        "connectionToDatabase.commit()\n",
        "\n",
        "cursor.execute('''insert into carDealership values (\"Philadelphia\", \"S63 AMG\", null, 1, 349, 9035)''')\n",
        "connectionToDatabase.commit()\n",
        "\n",
        "cursor.execute('''insert into carDealership values (\"Seattle\", \"911\", null, 4, 001, 8637)''')\n",
        "connectionToDatabase.commit()\n",
        "\n",
        "cursor.execute('''insert into carDealership values (\"State College\", null, \"A6\", 3, 278, 1179)''')\n",
        "connectionToDatabase.commit()\n",
        "\n",
        "cursor.execute('''insert into carDealership values (\"The Future\", null, \"Delorean\", 2, 954,  874)''')\n",
        "connectionToDatabase.commit()\n",
        "\n",
        "cursor.execute('''insert into carDealership values (\"Mars\", \"Rover\", null, 5, 666, 8943)''')\n",
        "connectionToDatabase.commit()"
      ],
      "execution_count": 0,
      "outputs": []
    },
    {
      "cell_type": "code",
      "metadata": {
        "id": "K4yv0Fk6aAMJ",
        "colab_type": "code",
        "colab": {}
      },
      "source": [
        "#Inserting Data into carManufacturer\n",
        "                                      #brand text PRIMARY KEY, carDealerships text, carModels text, inventoryAllocation real\n",
        "cursor.execute('''insert into carManufacturer values (\"BMW\", \"Chicago\", \"340i\", 9)''')\n",
        "connectionToDatabase.commit()\n",
        "\n",
        "cursor.execute('''insert into carManufacturer values (\"Mercedes\", \"Philadelphia\", \"E350\", 16)''')\n",
        "connectionToDatabase.commit()\n",
        "\n",
        "cursor.execute('''insert into carManufacturer values (\"Porsche\", \"Seattle\", \"911\", 4)''')\n",
        "connectionToDatabase.commit()\n",
        "\n",
        "cursor.execute('''insert into carManufacturer values (\"Audi\", \"State College\", \"A6\", 13)''')\n",
        "connectionToDatabase.commit()\n",
        "\n",
        "cursor.execute('''insert into carManufacturer values (\"Delorean\", \"The Future\", \"Delorean\", 0)''')\n",
        "connectionToDatabase.commit()\n",
        "\n",
        "cursor.execute('''insert into carManufacturer values (\"Land Rover\", \"Mars\", \"Rover\", 32)''')\n",
        "connectionToDatabase.commit()\n",
        "\n"
      ],
      "execution_count": 0,
      "outputs": []
    },
    {
      "cell_type": "code",
      "metadata": {
        "id": "jkKcpi3raSd_",
        "colab_type": "code",
        "colab": {}
      },
      "source": [
        "#Inserting Data into salesReport\n",
        "                                       #uniqueID real PRIMARY KEY, dealershipSR text, cusomterSR text, trans text\n",
        "cursor.execute('''insert into salesReport values (98755073, \"734\", \"78394030\", \"sale\")''')\n",
        "connectionToDatabase.commit()\n",
        "\n",
        "cursor.execute('''insert into salesReport values (83263691, \"349\", \"74327498\", \"trade-in sale\")''')\n",
        "connectionToDatabase.commit()\n",
        "\n",
        "cursor.execute('''insert into salesReport values (28439298, \"001\", \"32093974\", \"sale\")''')\n",
        "connectionToDatabase.commit()\n",
        "\n",
        "cursor.execute('''insert into salesReport values (76483623, \"278\", \"14809284\", \"purchase\")''')\n",
        "connectionToDatabase.commit()\n",
        "\n",
        "cursor.execute('''insert into salesReport values (48379076, \"954\", \"54903240\", \"sale\")''')\n",
        "connectionToDatabase.commit()\n",
        "\n",
        "cursor.execute('''insert into salesReport values (66923372, \"666\", \"82738092\", \"sale\")''')\n",
        "connectionToDatabase.commit()"
      ],
      "execution_count": 0,
      "outputs": []
    },
    {
      "cell_type": "code",
      "metadata": {
        "id": "FUphvWG_0jYZ",
        "colab_type": "code",
        "colab": {}
      },
      "source": [
        "#Inserting Data into customer\n",
        "                                       #CustomerId real PRIMARY KEY, salesReport text, name text, phoneNumber text, email text\n",
        "cursor.execute('''insert into customer values (74793732, \"78394030\", \"John Smith\", \"224-336-5592\", \"jsmith@gmail.com\")''')\n",
        "connectionToDatabase.commit()\n",
        "\n",
        "cursor.execute('''insert into customer values (23249094, \"74327498\", \"Patrick Dudas\", \"617-571-5803\", \"pdudas@gmail.com\")''')\n",
        "connectionToDatabase.commit()\n",
        "\n",
        "cursor.execute('''insert into customer values (74873923, \"32093974\", \"Sequon Barkley\", \"847-610-0100\", \"thicklegsforlife@gmail.com\")''')\n",
        "connectionToDatabase.commit()\n",
        "\n",
        "cursor.execute('''insert into customer values (29893844, \"14809284\", \"Chris Rock\", \"508-269-4581\", \"comedyman@gmail.com\")''')\n",
        "connectionToDatabase.commit()\n",
        "\n",
        "cursor.execute('''insert into customer values (64782648, \"54903240\", \"Colin Kaepernick\", \"847-857-1139\", \"kneeling@gmail.com\")''')\n",
        "connectionToDatabase.commit()\n",
        "\n",
        "cursor.execute('''insert into customer values (83974982, \"82738092\", \"Neil Armstrong\", \"847-877-3201\", \"smallsteps@gmail.com\")''')\n",
        "connectionToDatabase.commit()"
      ],
      "execution_count": 0,
      "outputs": []
    },
    {
      "cell_type": "code",
      "metadata": {
        "id": "Aeezm7fs7S8s",
        "colab_type": "code",
        "colab": {}
      },
      "source": [
        "#Inserting Data into lots\n",
        "                                       #lotNumber text PRIMARY KEY, numCars real, models text , price text\n",
        "cursor.execute('''insert into lots values (\"chicago1\", 137, \"340i\", 48950)''')\n",
        "connectionToDatabase.commit()\n",
        "\n",
        "cursor.execute('''insert into lots values (\"philadelphia1\", 98, \"s63 AMG\", 149550)''')\n",
        "connectionToDatabase.commit()\n",
        "\n",
        "cursor.execute('''insert into lots values (\"seattle4\", 108, \"911\", 113300)''')\n",
        "connectionToDatabase.commit()\n",
        "\n",
        "cursor.execute('''insert into lots values (\"stateCollege3\", 278, \"A6\", 26850)''')\n",
        "connectionToDatabase.commit()\n",
        "\n",
        "cursor.execute('''insert into lots values (\"theFuture2\", 64, \"Delorean\", 42988)''')\n",
        "connectionToDatabase.commit()\n",
        "\n",
        "cursor.execute('''insert into lots values (\"mars5\", 31, \"54903240\", 90900)''')\n",
        "connectionToDatabase.commit()"
      ],
      "execution_count": 0,
      "outputs": []
    },
    {
      "cell_type": "code",
      "metadata": {
        "id": "ulIO46sYD-gg",
        "colab_type": "code",
        "colab": {}
      },
      "source": [
        "#Inserting Data into monthlyInventoryReport\n",
        "                                       #orderNumber real PRIMARY KEY, numNewCars real, quantityCars real, changeInInventory real\n",
        "cursor.execute('''insert into monthlyInventoryReport values (5862, 43, 489, -12)''')\n",
        "connectionToDatabase.commit()\n",
        "\n",
        "cursor.execute('''insert into monthlyInventoryReport values (9035, 32, 253, 8)''')\n",
        "connectionToDatabase.commit()\n",
        "\n",
        "cursor.execute('''insert into monthlyInventoryReport values (8637, 15, 379, -27)''')\n",
        "connectionToDatabase.commit()\n",
        "\n",
        "cursor.execute('''insert into monthlyInventoryReport values (1179, 25, 400, 46)''')\n",
        "connectionToDatabase.commit()\n",
        "\n",
        "cursor.execute('''insert into monthlyInventoryReport values (874, 17, 212, 3)''')\n",
        "connectionToDatabase.commit()\n",
        "\n",
        "cursor.execute('''insert into monthlyInventoryReport values (8943, 23, 115, 7)''')\n",
        "connectionToDatabase.commit()"
      ],
      "execution_count": 0,
      "outputs": []
    },
    {
      "cell_type": "markdown",
      "metadata": {
        "id": "-tXl4OkNOtSt",
        "colab_type": "text"
      },
      "source": [
        "What's the change in inventory for the Seattle dealership?"
      ]
    },
    {
      "cell_type": "code",
      "metadata": {
        "id": "-gfMFvy0K8yF",
        "colab_type": "code",
        "outputId": "703f85e7-59f1-4175-ef34-e1dc8b465283",
        "colab": {
          "base_uri": "https://localhost:8080/",
          "height": 33
        }
      },
      "source": [
        "cursor.execute('''select dealership, changeInInventory from MonthlyInventoryReport, carDealership where dealership LIKE \"%Seattle%\" AND orderNumber = monthlyIR''')\n",
        "for row in cursor.fetchall():\n",
        "  print (row)"
      ],
      "execution_count": 0,
      "outputs": [
        {
          "output_type": "stream",
          "text": [
            "('Seattle', -27.0)\n"
          ],
          "name": "stdout"
        }
      ]
    },
    {
      "cell_type": "markdown",
      "metadata": {
        "id": "3Rfx4YwrsnBo",
        "colab_type": "text"
      },
      "source": [
        "This question is important because in order for a dealership to be successful they must track their change in inventory so they make sure they are selling more cars than buying. It also gives insight into what monthly allocation decisions should be made during the next month based on their previous month's performance."
      ]
    },
    {
      "cell_type": "markdown",
      "metadata": {
        "id": "oyXBvT_zO1oS",
        "colab_type": "text"
      },
      "source": [
        "What's the contact info for the person who bought a Delorean?"
      ]
    },
    {
      "cell_type": "code",
      "metadata": {
        "id": "_t9p4-wbMRbV",
        "colab_type": "code",
        "outputId": "b424ddb1-0ad1-4190-8da2-13570a60a6aa",
        "colab": {
          "base_uri": "https://localhost:8080/",
          "height": 33
        }
      },
      "source": [
        "cursor.execute('''select name, phoneNumber, email from customer, salesReport, carDealership where salesReportDeal = dealershipSR AND customerSR = salesReportCust AND usedCars = \"Delorean\"''')\n",
        "for row in cursor.fetchall():\n",
        "  print (row)"
      ],
      "execution_count": 0,
      "outputs": [
        {
          "output_type": "stream",
          "text": [
            "('Colin Kaepernick', '847-857-1139', 'kneeling@gmail.com')\n"
          ],
          "name": "stdout"
        }
      ]
    },
    {
      "cell_type": "markdown",
      "metadata": {
        "id": "q71XuekStZrB",
        "colab_type": "text"
      },
      "source": [
        "This question is important because transaction info for purchases of motorized vehicles is extremely important in the eyes of the state since they need to know who's car belongs to who. So for a dealership to be able to pull up a customer's info just because they know what model car they bought is quite powerful."
      ]
    },
    {
      "cell_type": "markdown",
      "metadata": {
        "id": "rLtgunE_O9uX",
        "colab_type": "text"
      },
      "source": [
        "Which dealership offers the Rover and on what lot is it located?"
      ]
    },
    {
      "cell_type": "code",
      "metadata": {
        "id": "a-Ir7a-POpED",
        "colab_type": "code",
        "outputId": "c7456b5b-f669-4c9e-a828-7c1d94afcd09",
        "colab": {
          "base_uri": "https://localhost:8080/",
          "height": 33
        }
      },
      "source": [
        "cursor.execute('''select dealership, dealershipLot from carDealership, carManufacturer, lots where newCars = \"Rover\" AND carModels = models limit 1''')\n",
        "for row in cursor.fetchall():\n",
        "  print (row)"
      ],
      "execution_count": 0,
      "outputs": [
        {
          "output_type": "stream",
          "text": [
            "('Mars', 5.0)\n"
          ],
          "name": "stdout"
        }
      ]
    },
    {
      "cell_type": "markdown",
      "metadata": {
        "id": "avklU9cguO5M",
        "colab_type": "text"
      },
      "source": [
        "This question is important because if someone wants to find out where to find a specific car, including not only the dealership location but also the lot it is possible to do so. It cuts down the guess and check with where you can find the car of your dreams."
      ]
    }
  ]
}